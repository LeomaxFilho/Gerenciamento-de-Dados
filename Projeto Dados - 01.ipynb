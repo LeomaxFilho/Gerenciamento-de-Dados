{
 "cells": [
  {
   "cell_type": "code",
   "execution_count": 454,
   "id": "749db53d",
   "metadata": {},
   "outputs": [],
   "source": [
    "import pandas as pd\n",
    "import seaborn as sns\n",
    "import matplotlib.pyplot as plt\n",
    "url = \"https://gist.githubusercontent.com/tgcsantos/3bdb29eba6ce391e90df2b72205ba891/raw/22fa920e80c9fa209a9fccc8b52d74cc95d1599b/dados_imoveis.csv\"\n",
    "pd.set_option('display.float_format', lambda x: '%.2f' % x)\n",
    "data = pd.read_csv(url)"
   ]
  },
  {
   "cell_type": "code",
   "execution_count": 455,
   "id": "711ad505",
   "metadata": {},
   "outputs": [
    {
     "data": {
      "text/html": [
       "<div>\n",
       "<style scoped>\n",
       "    .dataframe tbody tr th:only-of-type {\n",
       "        vertical-align: middle;\n",
       "    }\n",
       "\n",
       "    .dataframe tbody tr th {\n",
       "        vertical-align: top;\n",
       "    }\n",
       "\n",
       "    .dataframe thead th {\n",
       "        text-align: right;\n",
       "    }\n",
       "</style>\n",
       "<table border=\"1\" class=\"dataframe\">\n",
       "  <thead>\n",
       "    <tr style=\"text-align: right;\">\n",
       "      <th></th>\n",
       "      <th>Rua</th>\n",
       "      <th>Bairro</th>\n",
       "      <th>Cidade</th>\n",
       "      <th>Metragem</th>\n",
       "      <th>Quartos</th>\n",
       "      <th>Banheiros</th>\n",
       "      <th>Vagas</th>\n",
       "      <th>Valor</th>\n",
       "    </tr>\n",
       "  </thead>\n",
       "  <tbody>\n",
       "    <tr>\n",
       "      <th>0</th>\n",
       "      <td>Avenida Itacira, 255</td>\n",
       "      <td>Planalto Paulista</td>\n",
       "      <td>São Paulo</td>\n",
       "      <td>1000</td>\n",
       "      <td>4</td>\n",
       "      <td>8</td>\n",
       "      <td>6</td>\n",
       "      <td>R$ 7.000.000</td>\n",
       "    </tr>\n",
       "    <tr>\n",
       "      <th>1</th>\n",
       "      <td>Rua Aurelia Perez Alvarez, 42</td>\n",
       "      <td>Jardim dos Estados</td>\n",
       "      <td>São Paulo</td>\n",
       "      <td>496</td>\n",
       "      <td>4</td>\n",
       "      <td>4</td>\n",
       "      <td>4</td>\n",
       "      <td>R$ 3.700.000</td>\n",
       "    </tr>\n",
       "    <tr>\n",
       "      <th>2</th>\n",
       "      <td>Rua Alba Valdez</td>\n",
       "      <td>Jardim Reimberg</td>\n",
       "      <td>São Paulo</td>\n",
       "      <td>125</td>\n",
       "      <td>4</td>\n",
       "      <td>3</td>\n",
       "      <td>2</td>\n",
       "      <td>R$ 380.000</td>\n",
       "    </tr>\n",
       "    <tr>\n",
       "      <th>3</th>\n",
       "      <td>NaN</td>\n",
       "      <td>Jardim Morumbi</td>\n",
       "      <td>São Paulo</td>\n",
       "      <td>310</td>\n",
       "      <td>3</td>\n",
       "      <td>2</td>\n",
       "      <td>4</td>\n",
       "      <td>R$ 685.000</td>\n",
       "    </tr>\n",
       "    <tr>\n",
       "      <th>4</th>\n",
       "      <td>Rua Tobias Barreto, 195</td>\n",
       "      <td>Mooca</td>\n",
       "      <td>São Paulo</td>\n",
       "      <td>100</td>\n",
       "      <td>3</td>\n",
       "      <td>2</td>\n",
       "      <td>2</td>\n",
       "      <td>R$ 540.000</td>\n",
       "    </tr>\n",
       "  </tbody>\n",
       "</table>\n",
       "</div>"
      ],
      "text/plain": [
       "                              Rua              Bairro     Cidade  Metragem  \\\n",
       "0           Avenida Itacira, 255    Planalto Paulista  São Paulo      1000   \n",
       "1  Rua Aurelia Perez Alvarez, 42   Jardim dos Estados  São Paulo       496   \n",
       "2                 Rua Alba Valdez     Jardim Reimberg  São Paulo       125   \n",
       "3                             NaN      Jardim Morumbi  São Paulo       310   \n",
       "4        Rua Tobias Barreto, 195                Mooca  São Paulo       100   \n",
       "\n",
       "   Quartos  Banheiros  Vagas         Valor  \n",
       "0        4          8      6  R$ 7.000.000  \n",
       "1        4          4      4  R$ 3.700.000  \n",
       "2        4          3      2    R$ 380.000  \n",
       "3        3          2      4    R$ 685.000  \n",
       "4        3          2      2    R$ 540.000  "
      ]
     },
     "execution_count": 455,
     "metadata": {},
     "output_type": "execute_result"
    }
   ],
   "source": [
    "data_pre = data.copy() #uma cópia do arquivo \n",
    "data_pre.head(5)"
   ]
  },
  {
   "cell_type": "markdown",
   "id": "645663e0",
   "metadata": {},
   "source": [
    "Achando os bairros onde as ruas não tem nome"
   ]
  },
  {
   "cell_type": "code",
   "execution_count": 456,
   "id": "90e39653",
   "metadata": {},
   "outputs": [],
   "source": [
    "is_not = data_pre['Rua']\n",
    "data_ruas = data_pre[is_not.isnull()]\n",
    "bairro_sem_rua = data_ruas['Bairro'].unique()\n",
    "# bairro_sem_rua, onde eu encontro os bairros onde as ruas não tem nome"
   ]
  },
  {
   "cell_type": "markdown",
   "id": "2829a518",
   "metadata": {},
   "source": [
    "Retirando do arquivo os dados onde não constam Ruas"
   ]
  },
  {
   "cell_type": "code",
   "execution_count": 457,
   "id": "7593beb6",
   "metadata": {},
   "outputs": [],
   "source": [
    "data_pre = data_pre[~is_not.isna()]\n",
    "# data_pre agora sem os dados onde não encontramos os nomes das ruas"
   ]
  },
  {
   "cell_type": "code",
   "execution_count": 458,
   "id": "4e3c2339",
   "metadata": {},
   "outputs": [
    {
     "data": {
      "text/html": [
       "<div>\n",
       "<style scoped>\n",
       "    .dataframe tbody tr th:only-of-type {\n",
       "        vertical-align: middle;\n",
       "    }\n",
       "\n",
       "    .dataframe tbody tr th {\n",
       "        vertical-align: top;\n",
       "    }\n",
       "\n",
       "    .dataframe thead th {\n",
       "        text-align: right;\n",
       "    }\n",
       "</style>\n",
       "<table border=\"1\" class=\"dataframe\">\n",
       "  <thead>\n",
       "    <tr style=\"text-align: right;\">\n",
       "      <th></th>\n",
       "      <th>Rua</th>\n",
       "      <th>Bairro</th>\n",
       "      <th>Cidade</th>\n",
       "      <th>Metragem</th>\n",
       "      <th>Quartos</th>\n",
       "      <th>Banheiros</th>\n",
       "      <th>Vagas</th>\n",
       "      <th>Valor</th>\n",
       "    </tr>\n",
       "  </thead>\n",
       "  <tbody>\n",
       "    <tr>\n",
       "      <th>0</th>\n",
       "      <td>Avenida Itacira, 255</td>\n",
       "      <td>Planalto Paulista</td>\n",
       "      <td>São Paulo</td>\n",
       "      <td>1000</td>\n",
       "      <td>4</td>\n",
       "      <td>8</td>\n",
       "      <td>6</td>\n",
       "      <td>R$ 7.000.000</td>\n",
       "    </tr>\n",
       "    <tr>\n",
       "      <th>1</th>\n",
       "      <td>Rua Aurelia Perez Alvarez, 42</td>\n",
       "      <td>Jardim dos Estados</td>\n",
       "      <td>São Paulo</td>\n",
       "      <td>496</td>\n",
       "      <td>4</td>\n",
       "      <td>4</td>\n",
       "      <td>4</td>\n",
       "      <td>R$ 3.700.000</td>\n",
       "    </tr>\n",
       "    <tr>\n",
       "      <th>2</th>\n",
       "      <td>Rua Alba Valdez</td>\n",
       "      <td>Jardim Reimberg</td>\n",
       "      <td>São Paulo</td>\n",
       "      <td>125</td>\n",
       "      <td>4</td>\n",
       "      <td>3</td>\n",
       "      <td>2</td>\n",
       "      <td>R$ 380.000</td>\n",
       "    </tr>\n",
       "    <tr>\n",
       "      <th>4</th>\n",
       "      <td>Rua Tobias Barreto, 195</td>\n",
       "      <td>Mooca</td>\n",
       "      <td>São Paulo</td>\n",
       "      <td>100</td>\n",
       "      <td>3</td>\n",
       "      <td>2</td>\n",
       "      <td>2</td>\n",
       "      <td>R$ 540.000</td>\n",
       "    </tr>\n",
       "    <tr>\n",
       "      <th>5</th>\n",
       "      <td>Rua Graham Bell</td>\n",
       "      <td>Santo Amaro</td>\n",
       "      <td>São Paulo</td>\n",
       "      <td>440</td>\n",
       "      <td>4</td>\n",
       "      <td>4</td>\n",
       "      <td>6</td>\n",
       "      <td>R$ 1.980.000</td>\n",
       "    </tr>\n",
       "  </tbody>\n",
       "</table>\n",
       "</div>"
      ],
      "text/plain": [
       "                              Rua              Bairro     Cidade  Metragem  \\\n",
       "0           Avenida Itacira, 255    Planalto Paulista  São Paulo      1000   \n",
       "1  Rua Aurelia Perez Alvarez, 42   Jardim dos Estados  São Paulo       496   \n",
       "2                 Rua Alba Valdez     Jardim Reimberg  São Paulo       125   \n",
       "4        Rua Tobias Barreto, 195                Mooca  São Paulo       100   \n",
       "5                 Rua Graham Bell         Santo Amaro  São Paulo       440   \n",
       "\n",
       "   Quartos  Banheiros  Vagas         Valor  \n",
       "0        4          8      6  R$ 7.000.000  \n",
       "1        4          4      4  R$ 3.700.000  \n",
       "2        4          3      2    R$ 380.000  \n",
       "4        3          2      2    R$ 540.000  \n",
       "5        4          4      6  R$ 1.980.000  "
      ]
     },
     "execution_count": 458,
     "metadata": {},
     "output_type": "execute_result"
    }
   ],
   "source": [
    "data_pre.head(5)"
   ]
  },
  {
   "cell_type": "code",
   "execution_count": 459,
   "id": "d4f8a9cb",
   "metadata": {},
   "outputs": [
    {
     "data": {
      "text/plain": [
       "array([None, '/Mês'], dtype=object)"
      ]
     },
     "execution_count": 459,
     "metadata": {},
     "output_type": "execute_result"
    }
   ],
   "source": [
    "data_pre[\"Valor\"].str.split(expand = True)[2].unique()\n",
    "# encontramos os casos que a coluna 2 - [0],[1],[2], tem algo preenchido\n",
    "# no caso sendo ou nulo, ou /mês"
   ]
  },
  {
   "cell_type": "code",
   "execution_count": 460,
   "id": "4d34bee3",
   "metadata": {},
   "outputs": [
    {
     "data": {
      "text/plain": [
       "0          [R$, 7.000.000]\n",
       "1          [R$, 3.700.000]\n",
       "2            [R$, 380.000]\n",
       "4            [R$, 540.000]\n",
       "5          [R$, 1.980.000]\n",
       "               ...        \n",
       "10003        [R$, 665.000]\n",
       "10004      [R$, 2.300.000]\n",
       "10005      [R$, 1.050.000]\n",
       "10006    [R$, 2.200, /Mês]\n",
       "10007        [R$, 270.000]\n",
       "Name: Valor, Length: 6574, dtype: object"
      ]
     },
     "execution_count": 460,
     "metadata": {},
     "output_type": "execute_result"
    }
   ],
   "source": [
    "data_pre[\"Valor\"].str.split(expand = False)\n",
    "# lista do split após"
   ]
  },
  {
   "cell_type": "code",
   "execution_count": 461,
   "id": "6b97cc53",
   "metadata": {},
   "outputs": [
    {
     "data": {
      "text/plain": [
       "861"
      ]
     },
     "execution_count": 461,
     "metadata": {},
     "output_type": "execute_result"
    }
   ],
   "source": [
    "len(data_pre[\"Valor\"].str.split(expand = True)[1].unique())\n",
    "# numero de valores das casas"
   ]
  },
  {
   "cell_type": "code",
   "execution_count": 462,
   "id": "efc08ee8",
   "metadata": {},
   "outputs": [
    {
     "data": {
      "text/html": [
       "<div>\n",
       "<style scoped>\n",
       "    .dataframe tbody tr th:only-of-type {\n",
       "        vertical-align: middle;\n",
       "    }\n",
       "\n",
       "    .dataframe tbody tr th {\n",
       "        vertical-align: top;\n",
       "    }\n",
       "\n",
       "    .dataframe thead th {\n",
       "        text-align: right;\n",
       "    }\n",
       "</style>\n",
       "<table border=\"1\" class=\"dataframe\">\n",
       "  <thead>\n",
       "    <tr style=\"text-align: right;\">\n",
       "      <th></th>\n",
       "      <th>0</th>\n",
       "      <th>1</th>\n",
       "    </tr>\n",
       "  </thead>\n",
       "  <tbody>\n",
       "    <tr>\n",
       "      <th>0</th>\n",
       "      <td>R$</td>\n",
       "      <td>7.000.000</td>\n",
       "    </tr>\n",
       "    <tr>\n",
       "      <th>1</th>\n",
       "      <td>R$</td>\n",
       "      <td>3.700.000</td>\n",
       "    </tr>\n",
       "    <tr>\n",
       "      <th>2</th>\n",
       "      <td>R$</td>\n",
       "      <td>380.000</td>\n",
       "    </tr>\n",
       "  </tbody>\n",
       "</table>\n",
       "</div>"
      ],
      "text/plain": [
       "    0          1\n",
       "0  R$  7.000.000\n",
       "1  R$  3.700.000\n",
       "2  R$    380.000"
      ]
     },
     "execution_count": 462,
     "metadata": {},
     "output_type": "execute_result"
    }
   ],
   "source": [
    "data_pre_split = data_pre[data_pre[\"Valor\"].str.split(expand = True)[2].isna()]\n",
    "data_pre_split = data_pre_split[\"Valor\"].str.split(expand = True)\n",
    "data_pre_split.head(3)"
   ]
  },
  {
   "cell_type": "code",
   "execution_count": 463,
   "id": "0c8f1fb5",
   "metadata": {},
   "outputs": [
    {
     "name": "stderr",
     "output_type": "stream",
     "text": [
      "/var/folders/xc/hzpjszwj7sngpdvgtvrfd7nm0000gn/T/ipykernel_18763/4170755202.py:2: FutureWarning: The default value of regex will change from True to False in a future version. In addition, single character regular expressions will *not* be treated as literal strings when regex=True.\n",
      "  data_pre_split[1] = data_pre_split[1].str.replace(\".\",\"\").astype(float)\n"
     ]
    }
   ],
   "source": [
    "#altera o valor da primeira coluna para float\n",
    "data_pre_split[1] = data_pre_split[1].str.replace(\".\",\"\").astype(float)"
   ]
  },
  {
   "cell_type": "code",
   "execution_count": 464,
   "id": "f60bbf08",
   "metadata": {},
   "outputs": [
    {
     "data": {
      "text/html": [
       "<div>\n",
       "<style scoped>\n",
       "    .dataframe tbody tr th:only-of-type {\n",
       "        vertical-align: middle;\n",
       "    }\n",
       "\n",
       "    .dataframe tbody tr th {\n",
       "        vertical-align: top;\n",
       "    }\n",
       "\n",
       "    .dataframe thead th {\n",
       "        text-align: right;\n",
       "    }\n",
       "</style>\n",
       "<table border=\"1\" class=\"dataframe\">\n",
       "  <thead>\n",
       "    <tr style=\"text-align: right;\">\n",
       "      <th></th>\n",
       "      <th>Rua</th>\n",
       "      <th>Bairro</th>\n",
       "      <th>Cidade</th>\n",
       "      <th>Metragem</th>\n",
       "      <th>Quartos</th>\n",
       "      <th>Banheiros</th>\n",
       "      <th>Vagas</th>\n",
       "      <th>Moeda</th>\n",
       "      <th>Valor</th>\n",
       "    </tr>\n",
       "  </thead>\n",
       "  <tbody>\n",
       "    <tr>\n",
       "      <th>0</th>\n",
       "      <td>Avenida Itacira, 255</td>\n",
       "      <td>Planalto Paulista</td>\n",
       "      <td>São Paulo</td>\n",
       "      <td>1000</td>\n",
       "      <td>4</td>\n",
       "      <td>8</td>\n",
       "      <td>6</td>\n",
       "      <td>R$</td>\n",
       "      <td>7000000.00</td>\n",
       "    </tr>\n",
       "    <tr>\n",
       "      <th>1</th>\n",
       "      <td>Rua Aurelia Perez Alvarez, 42</td>\n",
       "      <td>Jardim dos Estados</td>\n",
       "      <td>São Paulo</td>\n",
       "      <td>496</td>\n",
       "      <td>4</td>\n",
       "      <td>4</td>\n",
       "      <td>4</td>\n",
       "      <td>R$</td>\n",
       "      <td>3700000.00</td>\n",
       "    </tr>\n",
       "    <tr>\n",
       "      <th>2</th>\n",
       "      <td>Rua Alba Valdez</td>\n",
       "      <td>Jardim Reimberg</td>\n",
       "      <td>São Paulo</td>\n",
       "      <td>125</td>\n",
       "      <td>4</td>\n",
       "      <td>3</td>\n",
       "      <td>2</td>\n",
       "      <td>R$</td>\n",
       "      <td>380000.00</td>\n",
       "    </tr>\n",
       "  </tbody>\n",
       "</table>\n",
       "</div>"
      ],
      "text/plain": [
       "                              Rua              Bairro     Cidade  Metragem  \\\n",
       "0           Avenida Itacira, 255    Planalto Paulista  São Paulo      1000   \n",
       "1  Rua Aurelia Perez Alvarez, 42   Jardim dos Estados  São Paulo       496   \n",
       "2                 Rua Alba Valdez     Jardim Reimberg  São Paulo       125   \n",
       "\n",
       "   Quartos  Banheiros  Vagas Moeda      Valor  \n",
       "0        4          8      6    R$ 7000000.00  \n",
       "1        4          4      4    R$ 3700000.00  \n",
       "2        4          3      2    R$  380000.00  "
      ]
     },
     "execution_count": 464,
     "metadata": {},
     "output_type": "execute_result"
    }
   ],
   "source": [
    "data_pre[[\"Moeda\", \"Valor\"]] = data_pre_split\n",
    "data_pre = data_pre[~data_pre['Valor'].isna()]\n",
    "data_pre = data_pre[['Rua','Bairro', 'Cidade', 'Metragem','Quartos', 'Banheiros','Vagas','Moeda','Valor']]\n",
    "data_pre.head(3)"
   ]
  },
  {
   "cell_type": "code",
   "execution_count": 465,
   "id": "5df8c4f2",
   "metadata": {},
   "outputs": [
    {
     "data": {
      "text/html": [
       "<div>\n",
       "<style scoped>\n",
       "    .dataframe tbody tr th:only-of-type {\n",
       "        vertical-align: middle;\n",
       "    }\n",
       "\n",
       "    .dataframe tbody tr th {\n",
       "        vertical-align: top;\n",
       "    }\n",
       "\n",
       "    .dataframe thead th {\n",
       "        text-align: right;\n",
       "    }\n",
       "</style>\n",
       "<table border=\"1\" class=\"dataframe\">\n",
       "  <thead>\n",
       "    <tr style=\"text-align: right;\">\n",
       "      <th></th>\n",
       "      <th>Rua</th>\n",
       "      <th>Bairro</th>\n",
       "      <th>Cidade</th>\n",
       "      <th>Metragem</th>\n",
       "      <th>Quartos</th>\n",
       "      <th>Banheiros</th>\n",
       "      <th>Vagas</th>\n",
       "      <th>Moeda</th>\n",
       "      <th>Valor</th>\n",
       "      <th>V_m2</th>\n",
       "    </tr>\n",
       "  </thead>\n",
       "  <tbody>\n",
       "    <tr>\n",
       "      <th>0</th>\n",
       "      <td>Avenida Itacira, 255</td>\n",
       "      <td>Planalto Paulista</td>\n",
       "      <td>São Paulo</td>\n",
       "      <td>1000</td>\n",
       "      <td>4</td>\n",
       "      <td>8</td>\n",
       "      <td>6</td>\n",
       "      <td>R$</td>\n",
       "      <td>7000000.00</td>\n",
       "      <td>7000.00</td>\n",
       "    </tr>\n",
       "    <tr>\n",
       "      <th>1</th>\n",
       "      <td>Rua Aurelia Perez Alvarez, 42</td>\n",
       "      <td>Jardim dos Estados</td>\n",
       "      <td>São Paulo</td>\n",
       "      <td>496</td>\n",
       "      <td>4</td>\n",
       "      <td>4</td>\n",
       "      <td>4</td>\n",
       "      <td>R$</td>\n",
       "      <td>3700000.00</td>\n",
       "      <td>7459.68</td>\n",
       "    </tr>\n",
       "    <tr>\n",
       "      <th>2</th>\n",
       "      <td>Rua Alba Valdez</td>\n",
       "      <td>Jardim Reimberg</td>\n",
       "      <td>São Paulo</td>\n",
       "      <td>125</td>\n",
       "      <td>4</td>\n",
       "      <td>3</td>\n",
       "      <td>2</td>\n",
       "      <td>R$</td>\n",
       "      <td>380000.00</td>\n",
       "      <td>3040.00</td>\n",
       "    </tr>\n",
       "  </tbody>\n",
       "</table>\n",
       "</div>"
      ],
      "text/plain": [
       "                              Rua              Bairro     Cidade  Metragem  \\\n",
       "0           Avenida Itacira, 255    Planalto Paulista  São Paulo      1000   \n",
       "1  Rua Aurelia Perez Alvarez, 42   Jardim dos Estados  São Paulo       496   \n",
       "2                 Rua Alba Valdez     Jardim Reimberg  São Paulo       125   \n",
       "\n",
       "   Quartos  Banheiros  Vagas Moeda      Valor    V_m2  \n",
       "0        4          8      6    R$ 7000000.00 7000.00  \n",
       "1        4          4      4    R$ 3700000.00 7459.68  \n",
       "2        4          3      2    R$  380000.00 3040.00  "
      ]
     },
     "execution_count": 465,
     "metadata": {},
     "output_type": "execute_result"
    }
   ],
   "source": [
    "#adiciona o valor do metro quadrado aos dados da residência\n",
    "data_pre[\"V_m2\"] = data_pre[\"Valor\"]/data_pre[\"Metragem\"]\n",
    "data_pre.head(3)"
   ]
  },
  {
   "cell_type": "code",
   "execution_count": 466,
   "id": "1a8c67a5",
   "metadata": {},
   "outputs": [
    {
     "data": {
      "text/html": [
       "<div>\n",
       "<style scoped>\n",
       "    .dataframe tbody tr th:only-of-type {\n",
       "        vertical-align: middle;\n",
       "    }\n",
       "\n",
       "    .dataframe tbody tr th {\n",
       "        vertical-align: top;\n",
       "    }\n",
       "\n",
       "    .dataframe thead th {\n",
       "        text-align: right;\n",
       "    }\n",
       "</style>\n",
       "<table border=\"1\" class=\"dataframe\">\n",
       "  <thead>\n",
       "    <tr style=\"text-align: right;\">\n",
       "      <th></th>\n",
       "      <th>Bairro</th>\n",
       "      <th>Metragem</th>\n",
       "      <th>Quartos</th>\n",
       "      <th>Banheiros</th>\n",
       "      <th>Vagas</th>\n",
       "      <th>Valor</th>\n",
       "      <th>V_m2</th>\n",
       "    </tr>\n",
       "  </thead>\n",
       "  <tbody>\n",
       "    <tr>\n",
       "      <th>0</th>\n",
       "      <td>Aclimação</td>\n",
       "      <td>247.62</td>\n",
       "      <td>3.27</td>\n",
       "      <td>3.03</td>\n",
       "      <td>2.88</td>\n",
       "      <td>1766659.75</td>\n",
       "      <td>7627.47</td>\n",
       "    </tr>\n",
       "    <tr>\n",
       "      <th>1</th>\n",
       "      <td>Alto da Boa Vista</td>\n",
       "      <td>393.71</td>\n",
       "      <td>4.14</td>\n",
       "      <td>5.14</td>\n",
       "      <td>4.71</td>\n",
       "      <td>2304285.71</td>\n",
       "      <td>5964.93</td>\n",
       "    </tr>\n",
       "    <tr>\n",
       "      <th>2</th>\n",
       "      <td>Alto da Lapa</td>\n",
       "      <td>276.75</td>\n",
       "      <td>3.04</td>\n",
       "      <td>3.80</td>\n",
       "      <td>3.36</td>\n",
       "      <td>2044163.64</td>\n",
       "      <td>7957.39</td>\n",
       "    </tr>\n",
       "  </tbody>\n",
       "</table>\n",
       "</div>"
      ],
      "text/plain": [
       "              Bairro  Metragem  Quartos  Banheiros  Vagas      Valor    V_m2\n",
       "0          Aclimação    247.62     3.27       3.03   2.88 1766659.75 7627.47\n",
       "1  Alto da Boa Vista    393.71     4.14       5.14   4.71 2304285.71 5964.93\n",
       "2       Alto da Lapa    276.75     3.04       3.80   3.36 2044163.64 7957.39"
      ]
     },
     "execution_count": 466,
     "metadata": {},
     "output_type": "execute_result"
    }
   ],
   "source": [
    "#média geral da soma dos inteiros e floats\n",
    "data_pre_bairros = data_pre.groupby(\"Bairro\")\n",
    "data_pre_mean = data_pre_bairros.mean()\n",
    "data_pre_mean.reset_index(inplace = True) #reseta o valor do index, colocando a numeração\n",
    "data_pre_mean.head(3)"
   ]
  },
  {
   "cell_type": "code",
   "execution_count": 467,
   "id": "7a4b6bee",
   "metadata": {},
   "outputs": [
    {
     "data": {
      "text/html": [
       "<div>\n",
       "<style scoped>\n",
       "    .dataframe tbody tr th:only-of-type {\n",
       "        vertical-align: middle;\n",
       "    }\n",
       "\n",
       "    .dataframe tbody tr th {\n",
       "        vertical-align: top;\n",
       "    }\n",
       "\n",
       "    .dataframe thead th {\n",
       "        text-align: right;\n",
       "    }\n",
       "</style>\n",
       "<table border=\"1\" class=\"dataframe\">\n",
       "  <thead>\n",
       "    <tr style=\"text-align: right;\">\n",
       "      <th></th>\n",
       "      <th>Metragem</th>\n",
       "      <th>Quartos</th>\n",
       "      <th>Banheiros</th>\n",
       "      <th>Vagas</th>\n",
       "      <th>Valor</th>\n",
       "      <th>V_m2</th>\n",
       "    </tr>\n",
       "    <tr>\n",
       "      <th>Bairro</th>\n",
       "      <th></th>\n",
       "      <th></th>\n",
       "      <th></th>\n",
       "      <th></th>\n",
       "      <th></th>\n",
       "      <th></th>\n",
       "    </tr>\n",
       "  </thead>\n",
       "  <tbody>\n",
       "    <tr>\n",
       "      <th>Aclimação</th>\n",
       "      <td>19067</td>\n",
       "      <td>252</td>\n",
       "      <td>233</td>\n",
       "      <td>222</td>\n",
       "      <td>136032801.00</td>\n",
       "      <td>587315.17</td>\n",
       "    </tr>\n",
       "    <tr>\n",
       "      <th>Alto da Boa Vista</th>\n",
       "      <td>2756</td>\n",
       "      <td>29</td>\n",
       "      <td>36</td>\n",
       "      <td>33</td>\n",
       "      <td>16130000.00</td>\n",
       "      <td>41754.54</td>\n",
       "    </tr>\n",
       "    <tr>\n",
       "      <th>Alto da Lapa</th>\n",
       "      <td>15221</td>\n",
       "      <td>167</td>\n",
       "      <td>209</td>\n",
       "      <td>185</td>\n",
       "      <td>112429000.00</td>\n",
       "      <td>437656.69</td>\n",
       "    </tr>\n",
       "  </tbody>\n",
       "</table>\n",
       "</div>"
      ],
      "text/plain": [
       "                   Metragem  Quartos  Banheiros  Vagas        Valor      V_m2\n",
       "Bairro                                                                       \n",
       "Aclimação             19067      252        233    222 136032801.00 587315.17\n",
       "Alto da Boa Vista      2756       29         36     33  16130000.00  41754.54\n",
       "Alto da Lapa          15221      167        209    185 112429000.00 437656.69"
      ]
     },
     "execution_count": 467,
     "metadata": {},
     "output_type": "execute_result"
    }
   ],
   "source": [
    "#define o somatorio das partes dadas como inteiros ou floats\n",
    "data_pre_sum = data_pre.groupby(\"Bairro\").sum()\n",
    "data_pre_sum.head(3)"
   ]
  },
  {
   "cell_type": "code",
   "execution_count": 468,
   "id": "a9caacf8",
   "metadata": {},
   "outputs": [
    {
     "data": {
      "text/plain": [
       "0   7134.46\n",
       "1   5852.69\n",
       "2   7386.44\n",
       "Name: V_m2, dtype: float64"
      ]
     },
     "execution_count": 468,
     "metadata": {},
     "output_type": "execute_result"
    }
   ],
   "source": [
    "#defino o valor do metro quadrado por bairro a partir da média das somas\n",
    "data_pre_sum['V_m2'] = data_pre_sum['Valor']/data_pre_sum['Metragem']\n",
    "data_pre_sum.reset_index(inplace = True) #reseta o valor do index, colocando a numeração\n",
    "data_pre_sum['V_m2'].head(3)"
   ]
  },
  {
   "cell_type": "code",
   "execution_count": 469,
   "id": "9859aad8",
   "metadata": {},
   "outputs": [
    {
     "data": {
      "text/html": [
       "<div>\n",
       "<style scoped>\n",
       "    .dataframe tbody tr th:only-of-type {\n",
       "        vertical-align: middle;\n",
       "    }\n",
       "\n",
       "    .dataframe tbody tr th {\n",
       "        vertical-align: top;\n",
       "    }\n",
       "\n",
       "    .dataframe thead th {\n",
       "        text-align: right;\n",
       "    }\n",
       "</style>\n",
       "<table border=\"1\" class=\"dataframe\">\n",
       "  <thead>\n",
       "    <tr style=\"text-align: right;\">\n",
       "      <th></th>\n",
       "      <th>Bairro</th>\n",
       "      <th>Metragem</th>\n",
       "      <th>Quartos</th>\n",
       "      <th>Banheiros</th>\n",
       "      <th>Vagas</th>\n",
       "      <th>Valor</th>\n",
       "      <th>V_m2</th>\n",
       "    </tr>\n",
       "  </thead>\n",
       "  <tbody>\n",
       "    <tr>\n",
       "      <th>0</th>\n",
       "      <td>Aclimação</td>\n",
       "      <td>247.62</td>\n",
       "      <td>3.27</td>\n",
       "      <td>3.03</td>\n",
       "      <td>2.88</td>\n",
       "      <td>1766659.75</td>\n",
       "      <td>7134.46</td>\n",
       "    </tr>\n",
       "    <tr>\n",
       "      <th>1</th>\n",
       "      <td>Alto da Boa Vista</td>\n",
       "      <td>393.71</td>\n",
       "      <td>4.14</td>\n",
       "      <td>5.14</td>\n",
       "      <td>4.71</td>\n",
       "      <td>2304285.71</td>\n",
       "      <td>5852.69</td>\n",
       "    </tr>\n",
       "    <tr>\n",
       "      <th>2</th>\n",
       "      <td>Alto da Lapa</td>\n",
       "      <td>276.75</td>\n",
       "      <td>3.04</td>\n",
       "      <td>3.80</td>\n",
       "      <td>3.36</td>\n",
       "      <td>2044163.64</td>\n",
       "      <td>7386.44</td>\n",
       "    </tr>\n",
       "  </tbody>\n",
       "</table>\n",
       "</div>"
      ],
      "text/plain": [
       "              Bairro  Metragem  Quartos  Banheiros  Vagas      Valor    V_m2\n",
       "0          Aclimação    247.62     3.27       3.03   2.88 1766659.75 7134.46\n",
       "1  Alto da Boa Vista    393.71     4.14       5.14   4.71 2304285.71 5852.69\n",
       "2       Alto da Lapa    276.75     3.04       3.80   3.36 2044163.64 7386.44"
      ]
     },
     "execution_count": 469,
     "metadata": {},
     "output_type": "execute_result"
    }
   ],
   "source": [
    "#atualizei a tabela para ter os valores do m2 como o resultado da media das somas\n",
    "data_pre_bairros = data_pre_bairros.mean()\n",
    "data_pre_bairros.reset_index(inplace = True) #reseta o valor do index, colocando a numeração\n",
    "data_pre_bairros[\"V_m2\"] = data_pre_sum['V_m2']\n",
    "data_pre_bairros.head(3)"
   ]
  },
  {
   "cell_type": "code",
   "execution_count": 470,
   "id": "34bc1589",
   "metadata": {},
   "outputs": [
    {
     "data": {
      "text/plain": [
       "Alto de Pinheiros       218\n",
       "Jardim Guedala          197\n",
       "Brooklin Paulista       158\n",
       "Vila Mariana            155\n",
       "Planalto Paulista       148\n",
       "                       ... \n",
       "Vila Picinin              1\n",
       "Jardim Maria Augusta      1\n",
       "Jardim Santa Maria        1\n",
       "Parque do Castelo         1\n",
       "Capela do Socorro         1\n",
       "Name: Bairro, Length: 598, dtype: int64"
      ]
     },
     "execution_count": 470,
     "metadata": {},
     "output_type": "execute_result"
    }
   ],
   "source": [
    "#conta a quantidade de vezes que cada bairro aparece e seleciona os 10 mais\n",
    "data_bairros_more = data_pre[\"Bairro\"].value_counts()\n",
    "data_bairros_more"
   ]
  },
  {
   "cell_type": "code",
   "execution_count": 471,
   "id": "e6a03907",
   "metadata": {},
   "outputs": [
    {
     "data": {
      "text/plain": [
       "Index(['Alto de Pinheiros', 'Jardim Guedala', 'Brooklin Paulista',\n",
       "       'Vila Mariana', 'Planalto Paulista', 'Pacaembu', 'Jardim Paulista',\n",
       "       'Vila Madalena', 'Campo Belo', 'Jardim Europa'],\n",
       "      dtype='object')"
      ]
     },
     "execution_count": 471,
     "metadata": {},
     "output_type": "execute_result"
    }
   ],
   "source": [
    "#agora seleciona os 10 bairros que mais aparecem\n",
    "data_pre_bairros_more = data_pre[\"Bairro\"].value_counts()[:10].index\n",
    "data_pre_bairros_more"
   ]
  },
  {
   "cell_type": "code",
   "execution_count": 472,
   "id": "9efa01ad",
   "metadata": {},
   "outputs": [
    {
     "data": {
      "text/html": [
       "<div>\n",
       "<style scoped>\n",
       "    .dataframe tbody tr th:only-of-type {\n",
       "        vertical-align: middle;\n",
       "    }\n",
       "\n",
       "    .dataframe tbody tr th {\n",
       "        vertical-align: top;\n",
       "    }\n",
       "\n",
       "    .dataframe thead th {\n",
       "        text-align: right;\n",
       "    }\n",
       "</style>\n",
       "<table border=\"1\" class=\"dataframe\">\n",
       "  <thead>\n",
       "    <tr style=\"text-align: right;\">\n",
       "      <th></th>\n",
       "      <th>Bairro</th>\n",
       "      <th>Metragem</th>\n",
       "      <th>Quartos</th>\n",
       "      <th>Banheiros</th>\n",
       "      <th>Vagas</th>\n",
       "      <th>Valor</th>\n",
       "      <th>V_m2</th>\n",
       "    </tr>\n",
       "  </thead>\n",
       "  <tbody>\n",
       "    <tr>\n",
       "      <th>4</th>\n",
       "      <td>Alto de Pinheiros</td>\n",
       "      <td>431.16</td>\n",
       "      <td>3.95</td>\n",
       "      <td>4.68</td>\n",
       "      <td>4.87</td>\n",
       "      <td>4837183.10</td>\n",
       "      <td>11219.10</td>\n",
       "    </tr>\n",
       "    <tr>\n",
       "      <th>17</th>\n",
       "      <td>Brooklin Paulista</td>\n",
       "      <td>300.21</td>\n",
       "      <td>3.44</td>\n",
       "      <td>3.61</td>\n",
       "      <td>3.63</td>\n",
       "      <td>2095403.73</td>\n",
       "      <td>6979.82</td>\n",
       "    </tr>\n",
       "    <tr>\n",
       "      <th>22</th>\n",
       "      <td>Campo Belo</td>\n",
       "      <td>277.89</td>\n",
       "      <td>3.39</td>\n",
       "      <td>3.61</td>\n",
       "      <td>3.23</td>\n",
       "      <td>1923897.01</td>\n",
       "      <td>6923.29</td>\n",
       "    </tr>\n",
       "  </tbody>\n",
       "</table>\n",
       "</div>"
      ],
      "text/plain": [
       "               Bairro  Metragem  Quartos  Banheiros  Vagas      Valor     V_m2\n",
       "4   Alto de Pinheiros    431.16     3.95       4.68   4.87 4837183.10 11219.10\n",
       "17  Brooklin Paulista    300.21     3.44       3.61   3.63 2095403.73  6979.82\n",
       "22         Campo Belo    277.89     3.39       3.61   3.23 1923897.01  6923.29"
      ]
     },
     "execution_count": 472,
     "metadata": {},
     "output_type": "execute_result"
    }
   ],
   "source": [
    "#transforma o data_pre_bairros_more na database dos top 10 bairros que mais aparecem\n",
    "data_pre_more = data_pre_bairros.query(\"Bairro in @data_pre_bairros_more\")\n",
    "data_pre_more.head(3)"
   ]
  },
  {
   "cell_type": "code",
   "execution_count": 477,
   "id": "3f82449b",
   "metadata": {
    "scrolled": true
   },
   "outputs": [
    {
     "data": {
      "image/png": "[encoded data removed]",
      "text/plain": [
       "<Figure size 360x288 with 1 Axes>"
      ]
     },
     "metadata": {
      "needs_background": "light"
     },
     "output_type": "display_data"
    }
   ],
   "source": [
    "plt.figure(figsize=(5, 4))\n",
    "ax = sns.barplot(x=\"Bairro\", y=\"V_m2\", data=data_pre_more)\n",
    "ax.tick_params(axis='x', rotation=45)"
   ]
  }
 ],
 "metadata": {
  "kernelspec": {
   "display_name": "Python 3 (ipykernel)",
   "language": "python",
   "name": "python3"
  },
  "language_info": {
   "codemirror_mode": {
    "name": "ipython",
    "version": 3
   },
   "file_extension": ".py",
   "mimetype": "text/x-python",
   "name": "python",
   "nbconvert_exporter": "python",
   "pygments_lexer": "ipython3",
   "version": "3.9.12"
  }
 },
 "nbformat": 4,
 "nbformat_minor": 5
}
